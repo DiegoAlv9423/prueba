{
 "cells": [
  {
   "cell_type": "code",
   "execution_count": null,
   "id": "7a670de6-614b-4e39-9c56-c49d218abbf4",
   "metadata": {
    "id": "7a670de6-614b-4e39-9c56-c49d218abbf4"
   },
   "outputs": [],
   "source": [
    "#Primera modificación\n",
    "# comentario Lorena\n",
    "# otro lorena\n",
    "#Otro cambio\n",
    "\n",
    "\n",
    "\n",
    "Hola mundo \n",
    "\n",
    "Estamos probando\n",
    "\n",
    "#Cambio para ver cómo funcionan los pull requests\n",
    "#Segundo cambio para ver pull requests"
   ]
  }
 ],
 "metadata": {
  "colab": {
   "provenance": []
  },
  "kernelspec": {
   "display_name": "Python 3 (ipykernel)",
   "language": "python",
   "name": "python3"
  },
  "language_info": {
   "codemirror_mode": {
    "name": "ipython",
    "version": 3
   },
   "file_extension": ".py",
   "mimetype": "text/x-python",
   "name": "python",
   "nbconvert_exporter": "python",
   "pygments_lexer": "ipython3",
   "version": "3.12.7"
  }
 },
 "nbformat": 4,
 "nbformat_minor": 5
}
